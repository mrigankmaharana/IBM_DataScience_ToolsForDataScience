{
 "cells": [
  {
   "cell_type": "code",
   "execution_count": null,
   "id": "a01f7f33",
   "metadata": {},
   "outputs": [],
   "source": [
    "# -- Cell 1 --\n",
    "\n",
    "import yfinance as yf\n",
    "import pandas as pd\n",
    "import requests\n",
    "from bs4 import BeautifulSoup\n",
    "import matplotlib.pyplot as plt\n",
    "from io import StringIO\n",
    "\n",
    "def get_stock_data(ticker: str) -> pd.DataFrame:\n",
    "    data = yf.Ticker(ticker).history(period=\"max\")\n",
    "    data.reset_index(inplace=True)\n",
    "    return data\n",
    "\n",
    "def get_revenue_data(url: str) -> pd.DataFrame:\n",
    "    headers = {\"User-Agent\": \"Mozilla/5.0\"}\n",
    "    html_data = requests.get(url, headers=headers).text\n",
    "    soup = BeautifulSoup(html_data, \"html.parser\")\n",
    "    tables = soup.find_all(\"table\")\n",
    "    if not tables:\n",
    "        raise ValueError(\"No tables found. The website structure may have changed.\")\n",
    "\n",
    "    table_html = str(tables[0])\n",
    "    revenue = pd.read_html(StringIO(table_html))[0]\n",
    "    revenue.columns = [\"Date\", \"Revenue\"]\n",
    "    revenue.dropna(inplace=True)\n",
    "    revenue[\"Revenue\"] = (\n",
    "        revenue[\"Revenue\"].str.replace(r\"[$,]\", \"\", regex=True)\n",
    "        .astype(float)\n",
    "    )\n",
    "    revenue.dropna(inplace=True)\n",
    "    return revenue\n",
    "\n",
    "def make_dashboard(stock_df: pd.DataFrame, revenue_df: pd.DataFrame, title: str) -> None:\n",
    "    fig, ax1 = plt.subplots(figsize=(12, 6))\n",
    "    ax1.plot(stock_df[\"Date\"], stock_df[\"Close\"], color=\"tab:blue\", label=\"Close\")\n",
    "    ax1.set_xlabel(\"Date\")\n",
    "    ax1.set_ylabel(\"Stock Price ($)\", color=\"tab:blue\")\n",
    "    ax1.tick_params(axis=\"y\", labelcolor=\"tab:blue\")\n",
    "\n",
    "    ax2 = ax1.twinx()\n",
    "    ax2.bar(revenue_df[\"Date\"], revenue_df[\"Revenue\"], alpha=0.3, color=\"tab:gray\", label=\"Revenue\")\n",
    "    ax2.set_ylabel(\"Revenue (USD)\", color=\"tab:gray\")\n",
    "    ax2.tick_params(axis=\"y\", labelcolor=\"tab:gray\")\n",
    "\n",
    "    fig.suptitle(title)\n",
    "    fig.tight_layout()\n",
    "    plt.show()"
   ]
  },
  {
   "cell_type": "code",
   "execution_count": null,
   "metadata": {},
   "outputs": [],
   "source": [
    "# Question 1: Use yfinance to Extract Tesla Stock Data\n",
    "tesla_data = yf.Ticker(\"TSLA\").history(period=\"max\")\n",
    "tesla_data.reset_index(inplace=True)\n",
    "tesla_data.head()"
   ]
  },
  {
   "cell_type": "code",
   "execution_count": null,
   "metadata": {},
   "outputs": [],
   "source": [
    "# Question 2: Use Webscraping to Extract Tesla Revenue Data\n",
    "tesla_revenue_url = \"https://www.macrotrends.net/stocks/charts/TSLA/tesla/revenue\"\n",
    "tesla_revenue = get_revenue_data(tesla_revenue_url)\n",
    "tesla_revenue[\"Date\"] = pd.to_datetime(tesla_revenue[\"Date\"])\n",
    "tesla_revenue.tail()"
   ]
  },
  {
   "cell_type": "code",
   "execution_count": null,
   "id": "9cf45a59",
   "metadata": {},
   "outputs": [],
   "source": [
    "# Question 3: Use yfinance to Extract GameStop Stock Data\n",
    "gme_data = yf.Ticker(\"GME\").history(period=\"max\")\n",
    "gme_data.reset_index(inplace=True)\n",
    "gme_data.head()"
   ]
  },
  {
   "cell_type": "code",
   "execution_count": null,
   "id": "70680dc4",
   "metadata": {},
   "outputs": [],
   "source": [
    "# Question 4: Use yfinance to Extract GameStop Revenue Data\n",
    "gme_revenue_url = \"https://www.macrotrends.net/stocks/charts/GME/gamestop/revenue\"\n",
    "gme_revenue = get_revenue_data(gme_revenue_url)\n",
    "gme_revenue['Date'] = pd.to_datetime(gme_revenue['Date'])\n",
    "gme_revenue.tail()"
   ]
  },
  {
   "cell_type": "code",
   "execution_count": null,
   "id": "f0a4468f",
   "metadata": {},
   "outputs": [],
   "source": [
    "# Question 5: Plot Tesla Stock Graph\n",
    "make_dashboard(tesla_data, tesla_revenue, \"Tesla Stock Price & Revenue\")"
   ]
  },
  {
   "cell_type": "code",
   "execution_count": null,
   "id": "9b796dbc",
   "metadata": {},
   "outputs": [],
   "source": [
    "# Question 6: Plot GameStop Stock Graph\n",
    "make_dashboard(gme_data, gme_revenue, \"GameStop Stock Price & Revenue\")"
   ]
  }
 ],
 "metadata": {
  "kernelspec": {
   "display_name": ".venv",
   "language": "python",
   "name": "python3"
  },
  "language_info": {
   "codemirror_mode": {
    "name": "ipython",
    "version": 3
   },
   "file_extension": ".py",
   "mimetype": "text/x-python",
   "name": "python",
   "nbconvert_exporter": "python",
   "pygments_lexer": "ipython3",
   "version": "3.10.11"
  }
 },
 "nbformat": 4,
 "nbformat_minor": 5
}

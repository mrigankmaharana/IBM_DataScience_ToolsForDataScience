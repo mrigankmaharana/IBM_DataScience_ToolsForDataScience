{
 "cells": [
  {
   "cell_type": "markdown",
   "metadata": {},
   "source": "# IBM Data Science Final Project"
  },
  {
   "cell_type": "markdown",
   "metadata": {},
   "source": "## Question 1: Use yfinance to Extract Tesla Stock Data"
  },
  {
   "cell_type": "code",
   "execution_count": null,
   "metadata": {},
   "outputs": [],
   "source": "import yfinance as yf\nimport pandas as pd"
  },
  {
   "cell_type": "code",
   "execution_count": null,
   "metadata": {},
   "outputs": [],
   "source": "tesla_data = yf.download('TSLA', start='2010-06-29', end='2021-06-30')\ntesla_data.reset_index(inplace=True)\ntesla_data.head()"
  },
  {
   "cell_type": "markdown",
   "metadata": {},
   "source": "## Question 2: Use Webscraping to Extract Tesla Revenue Data"
  },
  {
   "cell_type": "code",
   "execution_count": null,
   "metadata": {},
   "outputs": [],
   "source": "import requests\nfrom bs4 import BeautifulSoup"
  },
  {
   "cell_type": "code",
   "execution_count": null,
   "metadata": {},
   "outputs": [],
   "source": "url = 'https://www.macrotrends.net/stocks/charts/TSLA/tesla/revenue'\nhtml_data = requests.get(url).text\nsoup = BeautifulSoup(html_data, 'html.parser')\n\nimport pandas as pd\n\nfor table in soup.find_all('table'):\n    if 'Tesla Quarterly Revenue' in str(table):\n        tesla_revenue = pd.read_html(str(table))[0]\n        break\n\ntesla_revenue.columns = ['Date', 'Revenue']\ntesla_revenue['Revenue'] = tesla_revenue['Revenue'].str.replace('$','').str.replace(',','')\ntesla_revenue.dropna(inplace=True)\ntesla_revenue.tail()"
  },
  {
   "cell_type": "markdown",
   "metadata": {},
   "source": "## Question 3: Use yfinance to Extract GameStop Stock Data"
  },
  {
   "cell_type": "code",
   "execution_count": null,
   "metadata": {},
   "outputs": [],
   "source": "gme_data = yf.download('GME', start='2010-06-29', end='2021-06-30')\ngme_data.reset_index(inplace=True)\ngme_data.head()"
  },
  {
   "cell_type": "markdown",
   "metadata": {},
   "source": "## Question 4: Use Webscraping to Extract GameStop Revenue Data"
  },
  {
   "cell_type": "code",
   "execution_count": null,
   "metadata": {},
   "outputs": [],
   "source": "url = 'https://www.macrotrends.net/stocks/charts/GME/gamestop/revenue'\nhtml_data = requests.get(url).text\nsoup = BeautifulSoup(html_data, 'html.parser')\n\nfor table in soup.find_all('table'):\n    if 'GameStop Quarterly Revenue' in str(table):\n        gme_revenue = pd.read_html(str(table))[0]\n        break\n\ngme_revenue.columns = ['Date', 'Revenue']\ngme_revenue['Revenue'] = gme_revenue['Revenue'].str.replace('$','').str.replace(',','')\ngme_revenue.dropna(inplace=True)\ngme_revenue.tail()"
  },
  {
   "cell_type": "markdown",
   "metadata": {},
   "source": "## Question 5: Tesla Stock and Revenue Dashboard"
  },
  {
   "cell_type": "code",
   "execution_count": null,
   "metadata": {},
   "outputs": [],
   "source": "import plotly.graph_objs as go\nfrom plotly.subplots import make_subplots"
  },
  {
   "cell_type": "code",
   "execution_count": null,
   "metadata": {},
   "outputs": [],
   "source": "def make_graph(stock_data, revenue_data, stock, title):\n    fig = make_subplots(rows=2, cols=1, shared_xaxes=True, subplot_titles=('Historical Share Price', 'Historical Revenue'), vertical_spacing=.3)\n    fig.add_trace(go.Scatter(x=stock_data.Date, y=stock_data.Close.astype(float), name='Share Price'), row=1, col=1)\n    fig.add_trace(go.Scatter(x=revenue_data.Date, y=revenue_data.Revenue.astype(float), name='Revenue'), row=2, col=1)\n    fig.update_layout(title=title, xaxis_title='Date', yaxis_title='Price', xaxis2_title='Date', yaxis2_title='Revenue')\n    fig.show()"
  },
  {
   "cell_type": "code",
   "execution_count": null,
   "metadata": {},
   "outputs": [],
   "source": "make_graph(tesla_data, tesla_revenue, 'TSLA', 'Tesla Stock and Revenue')"
  },
  {
   "cell_type": "markdown",
   "metadata": {},
   "source": "## Question 6: GameStop Stock and Revenue Dashboard"
  },
  {
   "cell_type": "code",
   "execution_count": null,
   "metadata": {},
   "outputs": [],
   "source": "make_graph(gme_data, gme_revenue, 'GME', 'GameStop Stock and Revenue')"
  }
 ],
 "metadata": {
  "kernelspec": {
   "display_name": "Python 3",
   "language": "python",
   "name": "python3"
  },
  "language_info": {
   "name": "python",
   "version": "3.10"
  }
 },
 "nbformat": 4,
 "nbformat_minor": 5
}

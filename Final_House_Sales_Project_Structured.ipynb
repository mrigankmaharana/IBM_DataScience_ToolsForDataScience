{
 "cells": [
  {
   "cell_type": "markdown",
   "id": "e30b63a3",
   "metadata": {},
   "source": [
    "# House Sales Price Prediction Analysis\n",
    "**Final Project - Data Analyst Role for Real Estate Investment Trust**\n",
    "\n",
    "This notebook walks through the analysis and modeling of house prices in King County.\n",
    "Each section corresponds to one of the 10 required questions for submission.\n"
   ]
  },
  {
   "cell_type": "markdown",
   "id": "796511e0",
   "metadata": {},
   "source": [
    "## Question 1\n",
    "**Display the data types of each column using `dtypes`.**"
   ]
  },
  {
   "cell_type": "code",
   "execution_count": null,
   "id": "9cb1214f",
   "metadata": {},
   "outputs": [],
   "source": [
    "import pandas as pd\n",
    "import numpy as np\n",
    "import matplotlib.pyplot as plt\n",
    "import seaborn as sns\n",
    "from sklearn.linear_model import LinearRegression, Ridge\n",
    "from sklearn.model_selection import train_test_split\n",
    "from sklearn.pipeline import Pipeline\n",
    "from sklearn.preprocessing import StandardScaler, PolynomialFeatures\n",
    "\n",
    "%matplotlib inline\n",
    "\n",
    "# Download kc_house_data.csv from Kaggle, put it in your working directory, and use:\n",
    "df = pd.read_csv(\"kc_house_data.csv\")  # <-- Make sure this file exists in your folder\n",
    "df.dtypes  # (or whatever next step)\n"
   ]
  },
  {
   "cell_type": "markdown",
   "id": "0049f571",
   "metadata": {},
   "source": [
    "## Question 2\n",
    "**Drop `id` and `Unnamed: 0`, then describe the dataset.**"
   ]
  },
  {
   "cell_type": "code",
   "execution_count": null,
   "id": "ab032899",
   "metadata": {},
   "outputs": [],
   "source": [
    "df.drop(['id', 'Unnamed: 0'], axis=1, inplace=True, errors='ignore')\n",
    "df.describe()"
   ]
  },
  {
   "cell_type": "markdown",
   "id": "1fb5543b",
   "metadata": {},
   "source": [
    "## Question 3\n",
    "**Use `value_counts` on `floors` and convert to a DataFrame.**"
   ]
  },
  {
   "cell_type": "code",
   "execution_count": null,
   "id": "3290d14f",
   "metadata": {},
   "outputs": [],
   "source": [
    "floors_df = df['floors'].value_counts().to_frame(name='count')\n",
    "floors_df"
   ]
  },
  {
   "cell_type": "markdown",
   "id": "9452c6e6",
   "metadata": {},
   "source": [
    "## Question 4\n",
    "**Boxplot: Determine if waterfront homes have more price outliers.**"
   ]
  },
  {
   "cell_type": "code",
   "execution_count": null,
   "id": "3d71c506",
   "metadata": {},
   "outputs": [],
   "source": [
    "plt.figure(figsize=(8,6))\n",
    "sns.boxplot(x='waterfront', y='price', data=df)\n",
    "plt.title('Price vs Waterfront')\n",
    "plt.show()"
   ]
  },
  {
   "cell_type": "markdown",
   "id": "e416b937",
   "metadata": {},
   "source": [
    "## Question 5\n",
    "**Use `regplot` to see if `sqft_above` is correlated with price.**"
   ]
  },
  {
   "cell_type": "code",
   "execution_count": null,
   "id": "7f89a1fb",
   "metadata": {},
   "outputs": [],
   "source": [
    "plt.figure(figsize=(8,6))\n",
    "sns.regplot(x='sqft_above', y='price', data=df)\n",
    "plt.title('Price vs Sqft Above')\n",
    "plt.show()"
   ]
  },
  {
   "cell_type": "markdown",
   "id": "9c9348bf",
   "metadata": {},
   "source": [
    "## Question 6\n",
    "**Linear regression using `sqft_living` to predict price.**"
   ]
  },
  {
   "cell_type": "code",
   "execution_count": null,
   "id": "5b445285",
   "metadata": {},
   "outputs": [],
   "source": [
    "X = df[['sqft_living']]\n",
    "y = df['price']\n",
    "lm = LinearRegression()\n",
    "lm.fit(X, y)\n",
    "lm.score(X, y)"
   ]
  },
  {
   "cell_type": "markdown",
   "id": "585b8873",
   "metadata": {},
   "source": [
    "## Question 7\n",
    "**Multiple linear regression using several features.**"
   ]
  },
  {
   "cell_type": "code",
   "execution_count": null,
   "id": "d1a64810",
   "metadata": {},
   "outputs": [],
   "source": [
    "features = ['floors', 'waterfront', 'lat', 'bedrooms', 'sqft_basement',\n",
    "            'view', 'bathrooms', 'sqft_living15', 'sqft_above', 'grade', 'sqft_living']\n",
    "X_multi = df[features]\n",
    "y = df['price']\n",
    "lm_multi = LinearRegression()\n",
    "lm_multi.fit(X_multi, y)\n",
    "lm_multi.score(X_multi, y)"
   ]
  },
  {
   "cell_type": "markdown",
   "id": "e0c9629b",
   "metadata": {},
   "source": [
    "## Question 8\n",
    "**Create a pipeline with scaler, polynomial transform, and linear regression.**"
   ]
  },
  {
   "cell_type": "code",
   "execution_count": null,
   "id": "1a25173f",
   "metadata": {},
   "outputs": [],
   "source": [
    "pipe = Pipeline([\n",
    "    ('scale', StandardScaler()),\n",
    "    ('poly', PolynomialFeatures(degree=2, include_bias=False)),\n",
    "    ('model', LinearRegression())\n",
    "])\n",
    "pipe.fit(X_multi, y)\n",
    "pipe.score(X_multi, y)"
   ]
  },
  {
   "cell_type": "markdown",
   "id": "d856167e",
   "metadata": {},
   "source": [
    "## Question 9\n",
    "**Train/test split with Ridge regression (`alpha=0.1`).**"
   ]
  },
  {
   "cell_type": "code",
   "execution_count": null,
   "id": "e6bf9b74",
   "metadata": {},
   "outputs": [],
   "source": [
    "X_train, X_test, y_train, y_test = train_test_split(X_multi, y, test_size=0.15, random_state=1)\n",
    "ridge = Ridge(alpha=0.1)\n",
    "ridge.fit(X_train, y_train)\n",
    "ridge.score(X_test, y_test)"
   ]
  },
  {
   "cell_type": "markdown",
   "id": "006f6209",
   "metadata": {},
   "source": [
    "## Question 10\n",
    "**Polynomial transform (degree=2) + Ridge regression (`alpha=0.1`) on train/test.**"
   ]
  },
  {
   "cell_type": "code",
   "execution_count": null,
   "id": "f68415af",
   "metadata": {},
   "outputs": [],
   "source": [
    "poly = PolynomialFeatures(degree=2, include_bias=False)\n",
    "X_train_poly = poly.fit_transform(X_train)\n",
    "X_test_poly = poly.transform(X_test)\n",
    "ridge_poly = Ridge(alpha=0.1)\n",
    "ridge_poly.fit(X_train_poly, y_train)\n",
    "ridge_poly.score(X_test_poly, y_test)"
   ]
  }
 ],
 "metadata": {
  "kernelspec": {
   "display_name": ".venv",
   "language": "python",
   "name": "python3"
  },
  "language_info": {
   "codemirror_mode": {
    "name": "ipython",
    "version": 3
   },
   "file_extension": ".py",
   "mimetype": "text/x-python",
   "name": "python",
   "nbconvert_exporter": "python",
   "pygments_lexer": "ipython3",
   "version": "3.10.11"
  }
 },
 "nbformat": 4,
 "nbformat_minor": 5
}
